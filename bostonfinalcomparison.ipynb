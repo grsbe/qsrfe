{
 "cells": [
  {
   "cell_type": "code",
   "execution_count": 1,
   "metadata": {},
   "outputs": [
    {
     "data": {
      "text/plain": [
       "Main.qsrfe"
      ]
     },
     "metadata": {},
     "output_type": "display_data"
    }
   ],
   "source": [
    "include(\"src/qsrfe.jl\")"
   ]
  },
  {
   "cell_type": "code",
   "execution_count": 2,
   "metadata": {},
   "outputs": [],
   "source": [
    "using DataFrames\n",
    "using HyperTuning\n",
    "using Random\n",
    "using Distributed"
   ]
  },
  {
   "cell_type": "code",
   "execution_count": 3,
   "metadata": {},
   "outputs": [
    {
     "data": {
      "text/plain": [
       "TaskLocalRNG()"
      ]
     },
     "metadata": {},
     "output_type": "display_data"
    }
   ],
   "source": [
    "\n",
    "Random.seed!(1234)"
   ]
  },
  {
   "cell_type": "code",
   "execution_count": 4,
   "metadata": {},
   "outputs": [],
   "source": [
    "using LinearAlgebra\n",
    "using MLJ, MLJLinearModels\n",
    "X, Y = @load_boston\n",
    "(xtrain, xtest), (ytrain, ytest) = qsrfe.load_dataset(X,Y;normalize=true,partitioning=0.8,rng=1234);\n",
    "indexmaptrain = ytrain .<= 47\n",
    "indexmaptest = ytest .<= 47\n",
    "(xtrain, xtest), (ytrain, ytest) = (xtrain[indexmaptrain,:], xtest[indexmaptest,:]), (ytrain[indexmaptrain], ytest[indexmaptest]);"
   ]
  },
  {
   "cell_type": "code",
   "execution_count": 5,
   "metadata": {},
   "outputs": [
    {
     "data": {
      "text/plain": [
       "((389, 12), (98, 12))"
      ]
     },
     "metadata": {},
     "output_type": "display_data"
    }
   ],
   "source": [
    "size(xtrain), size(xtest)"
   ]
  },
  {
   "cell_type": "code",
   "execution_count": 7,
   "metadata": {},
   "outputs": [],
   "source": [
    "using Plots"
   ]
  },
  {
   "cell_type": "code",
   "execution_count": 7,
   "metadata": {},
   "outputs": [],
   "source": [
    "p1 = Plots.histogram(ytrain, label=\"train\", bins=50)\n",
    "p2 = Plots.histogram(ytest, label=\"test\", bins=50)\n",
    "plot(p1, p2, layout=(1,2), size= (1280,480),legend=true)"
   ]
  },
  {
   "cell_type": "code",
   "execution_count": 6,
   "metadata": {},
   "outputs": [
    {
     "data": {
      "text/plain": [
       "(\"2^8:\", 256, \"2^9:\", 512, \"2^10:\", 1024, \"2^11:\", 2048, \"2^12:\", 4096, \"2^13:\", 8192, \"2^14:\", 16384, \"2^15:\", 32768, \"2^16:\", 65536, \"2^17:\", 131072)"
      ]
     },
     "metadata": {},
     "output_type": "display_data"
    }
   ],
   "source": [
    "\"2^8:\", 2^8, \"2^9:\", 2^9, \"2^10:\", 2^10, \"2^11:\", 2^11, \"2^12:\", 2^12, \"2^13:\", 2^13, \"2^14:\", 2^14, \"2^15:\", 2^15, \"2^16:\", 2^16, \"2^17:\", 2^17"
   ]
  },
  {
   "cell_type": "code",
   "execution_count": 7,
   "metadata": {},
   "outputs": [
    {
     "data": {
      "text/plain": [
       "10"
      ]
     },
     "metadata": {},
     "output_type": "display_data"
    }
   ],
   "source": []
  },
  {
   "cell_type": "code",
   "execution_count": 6,
   "metadata": {},
   "outputs": [
    {
     "name": "stdout",
     "output_type": "stream",
     "text": [
      "support: 6148/32769\n",
      "test rel: 0.12068745220340912 train rel: 0.05727852744767725\n",
      "test abs: 2.0661405273938453 train abs: 0.9437898383823745\n",
      "test mse: 8.579310751731064 train mse: 1.643249102189199\n",
      "test rmse: 2.92904604807283 train rmse: 1.2818927810816312\n"
     ]
    },
    {
     "ename": "UndefVarError",
     "evalue": "UndefVarError: `plot` not defined",
     "output_type": "error",
     "traceback": [
      "UndefVarError: `plot` not defined\n",
      "\n",
      "Stacktrace:\n",
      " [1] top-level scope\n",
      "   @ c:\\Users\\grsbe\\Desktop\\qsrfe\\jl_notebook_cell_df34fa98e69747e1a8f8a730347b8e2f_X12sZmlsZQ==.jl:26"
     ]
    }
   ],
   "source": [
    "# Assemble all the models to test\n",
    "# Hyper parameter testing cell\n",
    "N = 2^15\n",
    "SRFE = qsrfe.srfeRegressor(N=N,σ2=11.0,λ=0.00161612, intercept=true)\n",
    "RFE = qsrfe.rfeRegressor(N=N,σ2=10.0,λ=0.001, intercept=true)\n",
    "βQ = qsrfe.βQ(K=2,β=1.5,λ=32,condense=true)\n",
    "model = SRFE\n",
    "#training and evaluating\n",
    "    #quantizaiton\n",
    "\n",
    "# c = qsrfe.fit(model, xtrain, ytrain,βQ, verbose=true) #,max_iter=2000000\n",
    "# ytrainpred = qsrfe.predict(model,xtrain,βQ)\n",
    "# ytestpred = qsrfe.predict(model, xtest,βQ)\n",
    "\n",
    "    #no quantizaiton\n",
    "c = qsrfe.fit(model, xtrain, ytrain, verbose=true) #,max_iter=2000000\n",
    "ytrainpred = qsrfe.predict(model,xtrain)\n",
    "ytestpred = qsrfe.predict(model, xtest)\n",
    "\n",
    "println(\"\")\n",
    "println(\"test rel: \",qsrfe.rel_L2_error(ytest,ytestpred),\" train rel: \",qsrfe.rel_L2_error(ytrain,ytrainpred))\n",
    "println(\"test abs: \",qsrfe.abs_error(ytest,ytestpred),\" train abs: \",qsrfe.abs_error(ytrain,ytrainpred))\n",
    "println(\"test mse: \",qsrfe.mse(ytest,ytestpred),\" train mse: \",qsrfe.mse(ytrain,ytrainpred))\n",
    "println(\"test rmse: \",qsrfe.rmse(ytest,ytestpred),\" train rmse: \",qsrfe.rmse(ytrain,ytrainpred))\n",
    "model = SRFE\n",
    "p1 = plot(c[1:(end - model.intercept)],label=\"c parameter\")\n",
    "p2 = plot(ytrain[sortperm(ytrain)], label=\"true training values\")\n",
    "plot!(ytrainpred[sortperm(ytrain)], label=\"SRFE training\")\n",
    "p3 = plot(ytest[sortperm(ytest)], label=\"true values\")\n",
    "plot!(ytestpred[sortperm(ytest)], label=\"SRFE testing\")\n",
    "p4 = plot(p1,p3,layout=2, size = (1000,400))\n",
    "plot(p4,p2,layout=(2,1) ,size=(1000,800))"
   ]
  },
  {
   "cell_type": "code",
   "execution_count": 8,
   "metadata": {},
   "outputs": [
    {
     "name": "stdout",
     "output_type": "stream",
     "text": [
      "\n",
      "test rel: 0.15796017282576505 train rel: 0.14240007206879143\n",
      "test abs: 2.917169991953711 train abs: 2.383361431117994\n",
      "test mse: 14.696819518048793 train mse: 10.156407867085619\n"
     ]
    }
   ],
   "source": [
    "# normal linear regression for comparison\n",
    "lambda = 0.0000002\n",
    "ridge = RidgeRegression(lambda; fit_intercept=true)\n",
    "\n",
    "#A = hcat(xtrain)\n",
    "A = hcat(xtrain,xtrain.^2,xtrain.^3)\n",
    "# normal linear regression\n",
    "# c = A \\ ytrain ;\n",
    "# # normal ridge regression\n",
    "# lambda = 0.00001\n",
    "# cRidge = (A' * A + lambda * I) \\ (A'*ytrain)\n",
    "c = MLJLinearModels.fit(ridge,A,ytrain)\n",
    "\n",
    "#ytrainpred = hcat(xtrain,ones(size(xtrain,1))) * c\n",
    "ytrainpred = hcat(xtrain,xtrain.^2,xtrain.^3,ones(size(xtrain,1))) * c\n",
    "\n",
    "ytestpred = hcat(xtest,xtest.^2,xtest.^3,ones(size(xtest,1))) * c\n",
    "println(\"\")\n",
    "println(\"test rel: \",qsrfe.rel_L2_error(ytest,ytestpred),\" train rel: \",qsrfe.rel_L2_error(ytrain,ytrainpred))\n",
    "println(\"test abs: \",qsrfe.abs_error(ytest,ytestpred),\" train abs: \",qsrfe.abs_error(ytrain,ytrainpred))\n",
    "println(\"test mse: \",qsrfe.mse(ytest,ytestpred),\" train mse: \",qsrfe.mse(ytrain,ytrainpred))\n",
    "# model = RFE\n",
    "# p1 = plot(c[1:(end - model.intercept)],label=\"c parameter\")\n",
    "# p2 = plot(ytrain[sortperm(ytrain)], label=\"true training values\")\n",
    "# plot!(ytrainpred[sortperm(ytrain)], label=\"SRFE training\")\n",
    "# p3 = plot(ytest[sortperm(ytest)], label=\"true values\")\n",
    "# plot!(ytestpred[sortperm(ytest)], label=\"SRFE testing\")\n",
    "# p4 = plot(p1,p3,layout=2, size = (1000,400))\n",
    "# plot(p4,p2,layout=(2,1) ,size=(1000,800))"
   ]
  },
  {
   "cell_type": "code",
   "execution_count": null,
   "metadata": {},
   "outputs": [],
   "source": [
    "quant = βQ(K=256,β=1.5,λ=32,condense=true)\n",
    "model = srfeRegressor(N=N,λ=λ, σ2=11.0)\n",
    "trials = 5\n",
    "N = [2^8, 2^9, 2^10, 2^11, 2^12, 2^13, 2^14, 2^15]\n",
    "λ = 0.00012\n",
    "# level, \n",
    "df = qsrfe.create_df()\n",
    "for n in N\n",
    "    print(\"current iter: \",n,\": \")\n",
    "    model = srfeRegressor(N=n,λ=λ, σ2=10.0)\n",
    "    reltesterror, reltrainerror, abstesterror, abstrainerror, msetesterror, msetrainerror, relmsetesterror, relmsetrainerror = trainandevaluate(model,quant,(xtrain, xtest), (ytrain, ytest);trials=trials)\n",
    "    println(\"avg. test error: \",reltesterror, \" avg. train error: \", reltrainerror)\n",
    "    println(\"abs. test error:\", abstesterror, \" abs. train error: \", abstrainerror)\n",
    "    println(\"mse. test error:\", msetesterror, \" mse train error: \", msetrainerror)\n",
    "    println(\"rel mse test error:\", relmsetesterror, \" rel mse train error: \", relmsetrainerror)\n",
    "end"
   ]
  },
  {
   "cell_type": "code",
   "execution_count": 57,
   "metadata": {},
   "outputs": [],
   "source": [
    "\n",
    "function objective(trial)\n",
    "    @unpack λ = trial\n",
    "    model = qsrfe.srfeRegressor(N=2^15,λ=λ, σ2=11.0,intercept=true)\n",
    "    c = qsrfe.fit(model,xtrain,ytrain;max_iter=2000000,verbose=false)\n",
    "    ytestpred = qsrfe.predict(model,xtest)\n",
    "    return qsrfe.mse(ytest,ytestpred)\n",
    "end\n",
    "\n",
    "scenario = Scenario(λ = (0.0001..0.01),\n",
    "                        max_trials = 10);\n",
    "\n",
    "HyperTuning.optimize(objective, scenario)"
   ]
  },
  {
   "cell_type": "code",
   "execution_count": null,
   "metadata": {},
   "outputs": [],
   "source": []
  },
  {
   "cell_type": "code",
   "execution_count": null,
   "metadata": {},
   "outputs": [],
   "source": []
  },
  {
   "cell_type": "code",
   "execution_count": null,
   "metadata": {},
   "outputs": [],
   "source": []
  },
  {
   "cell_type": "code",
   "execution_count": 55,
   "metadata": {},
   "outputs": [
    {
     "name": "stdout",
     "output_type": "stream",
     "text": [
      "2^8:256 2^9:512 2^10:1024 2^11:2048 2^12:4096 2^13:8192 2^14:16384 2^15:32768 2^16:65536 2^17:131072\n"
     ]
    },
    {
     "data": {
      "text/plain": [
       "10"
      ]
     },
     "metadata": {},
     "output_type": "display_data"
    }
   ],
   "source": [
    "println(\"2^8:\", 2^8, \" 2^9:\", 2^9, \" 2^10:\", 2^10, \" 2^11:\", 2^11, \" 2^12:\", 2^12, \" 2^13:\", 2^13, \" 2^14:\", 2^14, \" 2^15:\", 2^15, \" 2^16:\", 2^16, \" 2^17:\", 2^17)\n",
    "levels = [2^10, 2^11, 2^12, 2^13, 2^14, 2^15]\n",
    "hyperopttrials = 50\n",
    "trials = 10"
   ]
  },
  {
   "cell_type": "code",
   "execution_count": 26,
   "metadata": {},
   "outputs": [
    {
     "data": {
      "text/plain": [
       "0.0051621412746435955"
      ]
     },
     "metadata": {},
     "output_type": "display_data"
    }
   ],
   "source": [
    "# setup dataframe for plotting later\n",
    "# level, rel L2, abs, mse\n",
    "df_SRFE = qsrfe.create_df([0.0, 0.0, 0.0, 0.0])\n",
    "df = df_SRFE\n",
    "#first hyper opt finding\n",
    "for level in levels\n",
    "    print(\"current iter: \",level,\": \")\n",
    "    function objective(trial)\n",
    "        @unpack λ = trial\n",
    "        model = qsrfe.srfeRegressor(N=level,λ=λ, σ2=11.0,intercept=true)\n",
    "        c = qsrfe.fit(model,xtrain,ytrain;max_iter=2000000,verbose=false)\n",
    "        ytestpred = qsrfe.predict(model,xtest)\n",
    "        return qsrfe.mse(ytest,ytestpred)\n",
    "    end\n",
    "\n",
    "    scenario = Scenario(λ = (0.0001..0.01),\n",
    "                            max_trials = hyperopttrials);\n",
    "    HyperTuning.optimize(objective, scenario)\n",
    "    @unpack λ = scenario\n",
    "    λ\n",
    "    meanL2 = 0.0\n",
    "    meanabs = 0.0\n",
    "    meanmse = 0.0\n",
    "    for i in 1:trials\n",
    "        model = qsrfe.srfeRegressor(N=level,λ=λ, σ2=11.0,intercept=true)\n",
    "        c = qsrfe.fit(model,xtrain,ytrain;max_iter=2000000,verbose=false)\n",
    "        ytestpred = qsrfe.predict(model,xtest)\n",
    "        meanL2 = meanL2 + qsrfe.mse(ytest,ytestpred)/trials\n",
    "        meanabs = meanabs + qsrfe.abs_error(ytest,ytestpred)/trials\n",
    "        meanmse = meanmse + qsrfe.mse(ytest,ytestpred)/trials\n",
    "\n",
    "    end\n",
    "    push!(df[level, meanL2, meanabs, meanmse])\n",
    "    println(\"avg. test error: \",meanmse)\n",
    "end"
   ]
  },
  {
   "cell_type": "code",
   "execution_count": null,
   "metadata": {},
   "outputs": [],
   "source": []
  }
 ],
 "metadata": {
  "kernelspec": {
   "display_name": "Julia 1.10.4",
   "language": "julia",
   "name": "julia-1.10"
  },
  "language_info": {
   "file_extension": ".jl",
   "mimetype": "application/julia",
   "name": "julia",
   "version": "1.10.4"
  }
 },
 "nbformat": 4,
 "nbformat_minor": 2
}
