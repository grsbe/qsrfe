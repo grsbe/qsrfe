{
 "cells": [
  {
   "cell_type": "code",
   "execution_count": 1,
   "metadata": {},
   "outputs": [],
   "source": [
    "using Random, LinearAlgebra, Distributions\n",
    "include(\"src/qsrfe.jl\")\n",
    "using .qsrfe"
   ]
  },
  {
   "cell_type": "code",
   "execution_count": 16,
   "metadata": {},
   "outputs": [
    {
     "data": {
      "text/plain": [
       "300"
      ]
     },
     "metadata": {},
     "output_type": "display_data"
    }
   ],
   "source": [
    "m=1000\n",
    "p=100\n",
    "d=10\n",
    "λ=3\n",
    "N=p * λ\n",
    "\n",
    "\n",
    "x = rand(Normal(),(m,d))\n",
    "ω = rand(Normal(),(N,d))\n",
    "τ = rand(Uniform(-π,π),N)\n",
    "\n",
    "A = zeros(Float64, m,N)\n",
    "for i in 1:m\n",
    "    for j in 1:N\n",
    "        A[i,j] = cos(x[i,:] ⋅ ω[j,:] + τ[j])\n",
    "    end\n",
    "end\n",
    "VA = qsrfe.βcondense(A,1.5,λ)"
   ]
  },
  {
   "cell_type": "code",
   "execution_count": 5,
   "metadata": {},
   "outputs": [
    {
     "data": {
      "text/plain": [
       "coherence (generic function with 1 method)"
      ]
     },
     "metadata": {},
     "output_type": "display_data"
    }
   ],
   "source": [
    "function coherence(A,i,j)\n",
    "    return abs(A[:,i] ⋅ A[:,j]) / (norm(A[:,i]) * norm(A[:,j]))\n",
    "end\n",
    "function coherence(A)\n",
    "    m, p = size(A)\n",
    "    worst = -1.0\n",
    "    for i in 1:p\n",
    "        for j in 1:(i-1)\n",
    "            coh = coherence(A,i,j)\n",
    "            if coh > worst\n",
    "                worst = coh\n",
    "            end\n",
    "        end\n",
    "    end\n",
    "    return worst\n",
    "end"
   ]
  },
  {
   "cell_type": "code",
   "execution_count": 20,
   "metadata": {},
   "outputs": [
    {
     "name": "stdout",
     "output_type": "stream",
     "text": [
      "0.41103567514818934"
     ]
    }
   ],
   "source": [
    "print(coherence(A))"
   ]
  }
 ],
 "metadata": {
  "kernelspec": {
   "display_name": "Julia 1.7.3",
   "language": "julia",
   "name": "julia-1.7"
  },
  "language_info": {
   "file_extension": ".jl",
   "mimetype": "application/julia",
   "name": "julia",
   "version": "1.7.3"
  },
  "orig_nbformat": 4
 },
 "nbformat": 4,
 "nbformat_minor": 2
}
