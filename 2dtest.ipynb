{
 "cells": [
  {
   "cell_type": "code",
   "execution_count": 1,
   "metadata": {},
   "outputs": [],
   "source": [
    "using Plots\n",
    "using Distributions\n",
    "using Random, DataFrames\n",
    "using LinearAlgebra\n",
    "using MLJ, MLJLinearModels\n",
    "include(\"src/qsrfe.jl\")\n",
    "using .qsrfe"
   ]
  },
  {
   "cell_type": "code",
   "execution_count": 2,
   "metadata": {},
   "outputs": [],
   "source": [
    "#point cloud\n",
    "n, m = 20, 50\n",
    "function ontoring(data, radius)\n",
    "    da = zeros(size(data))\n",
    "    for i in 1:size(data,1)\n",
    "        da[i,:] = data[i,:] ./ norm(data[i,:]) .* radius\n",
    "    end\n",
    "    return da\n",
    "end\n",
    "data1 = rand(Normal(0.,0.5),(n,2))\n",
    "data2 = ontoring(rand(Normal(0.,0.5),(m,2)),4) .+ rand(Normal(0.,0.5),(m,2))\n",
    "xtrain = vcat(data1,data2)\n",
    "xtrain = vcat(xtrain, xtrain .+ [7 5],xtrain .+ [-1 -7])\n",
    "ytrain = [ones(Float64,n) .* 1; -ones(Float64,m)];\n",
    "ytrain = vcat(ytrain, ytrain, ytrain);\n",
    "\n",
    "#100 times 100 grid hack\n",
    "x = range(-13, 13, length=100)\n",
    "y = range(-13, 13, length=100)\n",
    "z = [[i j] for i in x, j in y]\n",
    "zz = zeros(Float64,(1,2))\n",
    "for i in 1:100, j in 1:100\n",
    "    zz = vcat(zz,z[i,j])\n",
    "end\n",
    "zz = zz[2:size(zz,1),:];"
   ]
  },
  {
   "cell_type": "code",
   "execution_count": 7,
   "metadata": {},
   "outputs": [
    {
     "name": "stdout",
     "output_type": "stream",
     "text": [
      "support: 129/1000"
     ]
    }
   ],
   "source": [
    "#prediction contour plot\n",
    "\n",
    "srfe = qsrfe.srfeRegressor(N=1000,σ2=1.0, λ= 0.0003, intercept=false)\n",
    "\n",
    "c, ω, ζ = qsrfe.fit(srfe,xtrain,ytrain; verbose= true)\n",
    "zzz = qsrfe.predict(srfe,zz,c,ω,ζ)\n",
    "zzz = reshape(zzz,(100,100));"
   ]
  },
  {
   "cell_type": "code",
   "execution_count": 9,
   "metadata": {},
   "outputs": [
    {
     "data": {
      "text/plain": [
       "\"c:\\\\Users\\\\grsbe\\\\Desktop\\\\Masterthesis\\\\qsrfe\\\\active129.svg\""
      ]
     },
     "metadata": {},
     "output_type": "display_data"
    }
   ],
   "source": [
    "\n",
    "contour(x,y,zzz, fmt = :svg)\n",
    "title!(\"#active-features = 129\")\n",
    "scatter!(xtrain[ytrain .== 1,1],xtrain[ytrain .== 1,2], label=\"y = 1\")\n",
    "scatter!(xtrain[ytrain .== -1,1],xtrain[ytrain .== -1,2],label=\"y = -1\")\n",
    "savefig(\"active129.svg\")"
   ]
  },
  {
   "cell_type": "code",
   "execution_count": 21,
   "metadata": {},
   "outputs": [
    {
     "name": "stdout",
     "output_type": "stream",
     "text": [
      "support: 14/128"
     ]
    }
   ],
   "source": [
    "#prediction contour plot, Quantized version\n",
    "quantizer = qsrfe.βQ(K=2,λ=32,condense=true)\n",
    "srfe = qsrfe.srfeRegressor(N=2^12, σ2=1., λ= 0.01, intercept=false)\n",
    "\n",
    "c, ω, ζ = qsrfe.fit(srfe,xtrain,ytrain,quantizer, verbose=true)\n",
    "#c, ω, ζ = qsrfe.fit(srfe,xtrain,ytrain; verbose= true)\n",
    "zzz = qsrfe.predict(srfe,zz,c,ω,ζ,quantizer)\n",
    "#zzz = qsrfe.predict(srfe,zz,c,ω,ζ)\n",
    "zzz = reshape(zzz,(100,100));"
   ]
  },
  {
   "cell_type": "code",
   "execution_count": null,
   "metadata": {},
   "outputs": [],
   "source": []
  }
 ],
 "metadata": {
  "kernelspec": {
   "display_name": "Julia 1.9.3",
   "language": "julia",
   "name": "julia-1.9"
  },
  "language_info": {
   "file_extension": ".jl",
   "mimetype": "application/julia",
   "name": "julia",
   "version": "1.9.3"
  },
  "orig_nbformat": 4
 },
 "nbformat": 4,
 "nbformat_minor": 2
}
